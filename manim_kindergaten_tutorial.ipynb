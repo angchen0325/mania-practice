{
 "cells": [
  {
   "cell_type": "markdown",
   "metadata": {},
   "source": [
    "<center> <img src=\"data:image/svg+xml;base64,PD94bWwgdmVyc2lvbj0iMS4wIiBlbmNvZGluZz0idXRmLTgiPz4KPCEtLSBHZW5lcmF0b3I6IEFkb2JlIElsbHVzdHJhdG9yIDI4LjEuMCwgU1ZHIEV4cG9ydCBQbHVnLUluIC4gU1ZHIFZlcnNpb246IDYuMDAgQnVpbGQgMCkgIC0tPgo8c3ZnIHZlcnNpb249IjEuMSIgaWQ9IkxheWVyXzEiIHhtbG5zPSJodHRwOi8vd3d3LnczLm9yZy8yMDAwL3N2ZyIgeG1sbnM6eGxpbms9Imh0dHA6Ly93d3cudzMub3JnLzE5OTkveGxpbmsiIHg9IjBweCIgeT0iMHB4IgoJIHZpZXdCb3g9IjAgMCAxMDMuNSAxMDMuNSIgc3R5bGU9ImVuYWJsZS1iYWNrZ3JvdW5kOm5ldyAwIDAgMTAzLjUgMTAzLjU7IiB4bWw6c3BhY2U9InByZXNlcnZlIj4KPHN0eWxlIHR5cGU9InRleHQvY3NzIj4KCS5zdDB7ZmlsbDojMjFBQUQ0O30KCS5zdDF7ZmlsbDojQUZFMkVGO30KCS5zdDJ7ZmlsbDojNThDM0UzO30KCS5zdDN7ZmlsbDojOUQ2MzMxO30KCS5zdDR7ZmlsbDojRThEMkMyO30KCS5zdDV7ZmlsbDojRDBBNTg0O30KPC9zdHlsZT4KPGc+Cgk8Zz4KCQk8cG9seWdvbiBjbGFzcz0ic3QwIiBwb2ludHM9IjMyLjksMC4xIDU4LjQsMTMuMiA1OC40LDAuMSAJCSIvPgoJCTxwb2x5Z29uIGNsYXNzPSJzdDEiIHBvaW50cz0iMzIuOSwzOC40IDU4LjQsMjUuMyA1OC40LDM4LjQgCQkiLz4KCQk8Zz4KCQkJPHBvbHlnb24gY2xhc3M9InN0MiIgcG9pbnRzPSIyMC4zLDAuMSA1OC40LDE5LjIgMjAuMywzOC40IAkJCSIvPgoJCTwvZz4KCTwvZz4KCTxnPgoJCTxwb2x5Z29uIGNsYXNzPSJzdDAiIHBvaW50cz0iMC4xLDcwLjUgMTMuMiw0NS4xIDAuMSw0NS4xIAkJIi8+CgkJPHBvbHlnb24gY2xhc3M9InN0MSIgcG9pbnRzPSIzOC4zLDcwLjUgMjUuMyw0NS4xIDM4LjMsNDUuMSAJCSIvPgoJCTxnPgoJCQk8cG9seWdvbiBjbGFzcz0ic3QyIiBwb2ludHM9IjAuMSw4My4yIDE5LjEsNDUuMSAzOC40LDgzLjIgCQkJIi8+CgkJPC9nPgoJPC9nPgoJPGc+CgkJPHBvbHlnb24gY2xhc3M9InN0MCIgcG9pbnRzPSI3MS4xLDEwMy4zIDQ1LjcsOTAuMiA0NS43LDEwMy4zIAkJIi8+CgkJPHBvbHlnb24gY2xhc3M9InN0MSIgcG9pbnRzPSI3MS4xLDY1LjEgNDUuNyw3OC4yIDQ1LjcsNjUuMSAJCSIvPgoJCTxnPgoJCQk8cG9seWdvbiBjbGFzcz0ic3QyIiBwb2ludHM9IjgzLjgsMTAzLjMgNDUuNyw4NC4zIDgzLjgsNjUuMSAJCQkiLz4KCQk8L2c+Cgk8L2c+Cgk8Zz4KCQk8cG9seWdvbiBjbGFzcz0ic3QzIiBwb2ludHM9IjEwMy4zLDMzIDkwLjIsNTguNCAxMDMuMyw1OC40IAkJIi8+CgkJPHBvbHlnb24gY2xhc3M9InN0NCIgcG9pbnRzPSI2NS4xLDMzIDc4LjEsNTguNCA2NS4xLDU4LjQgCQkiLz4KCQk8Zz4KCQkJPHBvbHlnb24gY2xhc3M9InN0NSIgcG9pbnRzPSIxMDMuMywyMC4zIDg0LjMsNTguNCA2NSwyMC4zIAkJCSIvPgoJCTwvZz4KCTwvZz4KPC9nPgo8L3N2Zz4K\" style=\"width:10.0%\"/></center>"
   ]
  },
  {
   "cell_type": "markdown",
   "metadata": {},
   "source": [
    "<center><font size=5 face=\"Helvetica\" color=#306998><b>\n",
    "Manim Kindergarten Tutorials\n",
    "</b></font></center>"
   ]
  },
  {
   "cell_type": "markdown",
   "metadata": {},
   "source": [
    "<center><font face=\"Helvetica\" size=2><b>Ang Chen</b></font></center>\n",
    "<center><font face=\"Helvetica\" size=3>March, 2024</font></center>\n",
    "\n",
    "***"
   ]
  },
  {
   "cell_type": "code",
   "execution_count": null,
   "metadata": {},
   "outputs": [],
   "source": []
  }
 ],
 "metadata": {
  "language_info": {
   "name": "python"
  }
 },
 "nbformat": 4,
 "nbformat_minor": 2
}
